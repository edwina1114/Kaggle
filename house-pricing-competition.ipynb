{
 "cells": [
  {
   "cell_type": "markdown",
   "id": "5ab21b25",
   "metadata": {
    "papermill": {
     "duration": 0.006425,
     "end_time": "2025-02-12T09:38:19.278309",
     "exception": false,
     "start_time": "2025-02-12T09:38:19.271884",
     "status": "completed"
    },
    "tags": []
   },
   "source": [
    "# Import Libraries"
   ]
  },
  {
   "cell_type": "code",
   "execution_count": 1,
   "id": "c171d269",
   "metadata": {
    "_cell_guid": "b1076dfc-b9ad-4769-8c92-a6c4dae69d19",
    "_uuid": "8f2839f25d086af736a60e9eeb907d3b93b6e0e5",
    "execution": {
     "iopub.execute_input": "2025-02-12T09:38:19.291884Z",
     "iopub.status.busy": "2025-02-12T09:38:19.291372Z",
     "iopub.status.idle": "2025-02-12T09:38:22.720746Z",
     "shell.execute_reply": "2025-02-12T09:38:22.719624Z"
    },
    "papermill": {
     "duration": 3.439299,
     "end_time": "2025-02-12T09:38:22.723441",
     "exception": false,
     "start_time": "2025-02-12T09:38:19.284142",
     "status": "completed"
    },
    "tags": []
   },
   "outputs": [],
   "source": [
    "import pandas as pd\n",
    "import seaborn as sns\n",
    "import matplotlib.pyplot as plt\n",
    "\n",
    "from sklearn.model_selection import train_test_split\n",
    "\n",
    "from sklearn.pipeline import Pipeline\n",
    "from sklearn.preprocessing import StandardScaler\n",
    "from sklearn.compose import ColumnTransformer\n",
    "from sklearn.impute import SimpleImputer\n",
    "from sklearn.preprocessing import OneHotEncoder\n",
    "\n",
    "from sklearn.ensemble import RandomForestRegressor\n",
    "\n",
    "from sklearn.metrics import mean_absolute_error"
   ]
  },
  {
   "cell_type": "markdown",
   "id": "ca64f42c",
   "metadata": {
    "papermill": {
     "duration": 0.00697,
     "end_time": "2025-02-12T09:38:22.736537",
     "exception": false,
     "start_time": "2025-02-12T09:38:22.729567",
     "status": "completed"
    },
    "tags": []
   },
   "source": [
    "# Preprocessing "
   ]
  },
  {
   "cell_type": "code",
   "execution_count": 2,
   "id": "fc71e522",
   "metadata": {
    "execution": {
     "iopub.execute_input": "2025-02-12T09:38:22.750556Z",
     "iopub.status.busy": "2025-02-12T09:38:22.749986Z",
     "iopub.status.idle": "2025-02-12T09:38:22.837011Z",
     "shell.execute_reply": "2025-02-12T09:38:22.835852Z"
    },
    "papermill": {
     "duration": 0.097166,
     "end_time": "2025-02-12T09:38:22.839641",
     "exception": false,
     "start_time": "2025-02-12T09:38:22.742475",
     "status": "completed"
    },
    "tags": []
   },
   "outputs": [],
   "source": [
    "# Read Data\n",
    "X_train_full_raw = pd.read_csv('/kaggle/input/home-data-for-ml-course/train.csv', index_col='Id')\n",
    "X_test_full_raw = pd.read_csv('/kaggle/input/home-data-for-ml-course/test.csv', index_col='Id')"
   ]
  },
  {
   "cell_type": "code",
   "execution_count": 3,
   "id": "f1180a30",
   "metadata": {
    "execution": {
     "iopub.execute_input": "2025-02-12T09:38:22.853185Z",
     "iopub.status.busy": "2025-02-12T09:38:22.852741Z",
     "iopub.status.idle": "2025-02-12T09:38:22.883243Z",
     "shell.execute_reply": "2025-02-12T09:38:22.882071Z"
    },
    "papermill": {
     "duration": 0.040203,
     "end_time": "2025-02-12T09:38:22.885675",
     "exception": false,
     "start_time": "2025-02-12T09:38:22.845472",
     "status": "completed"
    },
    "tags": []
   },
   "outputs": [
    {
     "data": {
      "text/html": [
       "<div>\n",
       "<style scoped>\n",
       "    .dataframe tbody tr th:only-of-type {\n",
       "        vertical-align: middle;\n",
       "    }\n",
       "\n",
       "    .dataframe tbody tr th {\n",
       "        vertical-align: top;\n",
       "    }\n",
       "\n",
       "    .dataframe thead th {\n",
       "        text-align: right;\n",
       "    }\n",
       "</style>\n",
       "<table border=\"1\" class=\"dataframe\">\n",
       "  <thead>\n",
       "    <tr style=\"text-align: right;\">\n",
       "      <th></th>\n",
       "      <th>MSSubClass</th>\n",
       "      <th>MSZoning</th>\n",
       "      <th>LotFrontage</th>\n",
       "      <th>LotArea</th>\n",
       "      <th>Street</th>\n",
       "      <th>Alley</th>\n",
       "      <th>LotShape</th>\n",
       "      <th>LandContour</th>\n",
       "      <th>Utilities</th>\n",
       "      <th>LotConfig</th>\n",
       "      <th>...</th>\n",
       "      <th>PoolArea</th>\n",
       "      <th>PoolQC</th>\n",
       "      <th>Fence</th>\n",
       "      <th>MiscFeature</th>\n",
       "      <th>MiscVal</th>\n",
       "      <th>MoSold</th>\n",
       "      <th>YrSold</th>\n",
       "      <th>SaleType</th>\n",
       "      <th>SaleCondition</th>\n",
       "      <th>SalePrice</th>\n",
       "    </tr>\n",
       "    <tr>\n",
       "      <th>Id</th>\n",
       "      <th></th>\n",
       "      <th></th>\n",
       "      <th></th>\n",
       "      <th></th>\n",
       "      <th></th>\n",
       "      <th></th>\n",
       "      <th></th>\n",
       "      <th></th>\n",
       "      <th></th>\n",
       "      <th></th>\n",
       "      <th></th>\n",
       "      <th></th>\n",
       "      <th></th>\n",
       "      <th></th>\n",
       "      <th></th>\n",
       "      <th></th>\n",
       "      <th></th>\n",
       "      <th></th>\n",
       "      <th></th>\n",
       "      <th></th>\n",
       "      <th></th>\n",
       "    </tr>\n",
       "  </thead>\n",
       "  <tbody>\n",
       "    <tr>\n",
       "      <th>1</th>\n",
       "      <td>60</td>\n",
       "      <td>RL</td>\n",
       "      <td>65.0</td>\n",
       "      <td>8450</td>\n",
       "      <td>Pave</td>\n",
       "      <td>NaN</td>\n",
       "      <td>Reg</td>\n",
       "      <td>Lvl</td>\n",
       "      <td>AllPub</td>\n",
       "      <td>Inside</td>\n",
       "      <td>...</td>\n",
       "      <td>0</td>\n",
       "      <td>NaN</td>\n",
       "      <td>NaN</td>\n",
       "      <td>NaN</td>\n",
       "      <td>0</td>\n",
       "      <td>2</td>\n",
       "      <td>2008</td>\n",
       "      <td>WD</td>\n",
       "      <td>Normal</td>\n",
       "      <td>208500</td>\n",
       "    </tr>\n",
       "    <tr>\n",
       "      <th>2</th>\n",
       "      <td>20</td>\n",
       "      <td>RL</td>\n",
       "      <td>80.0</td>\n",
       "      <td>9600</td>\n",
       "      <td>Pave</td>\n",
       "      <td>NaN</td>\n",
       "      <td>Reg</td>\n",
       "      <td>Lvl</td>\n",
       "      <td>AllPub</td>\n",
       "      <td>FR2</td>\n",
       "      <td>...</td>\n",
       "      <td>0</td>\n",
       "      <td>NaN</td>\n",
       "      <td>NaN</td>\n",
       "      <td>NaN</td>\n",
       "      <td>0</td>\n",
       "      <td>5</td>\n",
       "      <td>2007</td>\n",
       "      <td>WD</td>\n",
       "      <td>Normal</td>\n",
       "      <td>181500</td>\n",
       "    </tr>\n",
       "    <tr>\n",
       "      <th>3</th>\n",
       "      <td>60</td>\n",
       "      <td>RL</td>\n",
       "      <td>68.0</td>\n",
       "      <td>11250</td>\n",
       "      <td>Pave</td>\n",
       "      <td>NaN</td>\n",
       "      <td>IR1</td>\n",
       "      <td>Lvl</td>\n",
       "      <td>AllPub</td>\n",
       "      <td>Inside</td>\n",
       "      <td>...</td>\n",
       "      <td>0</td>\n",
       "      <td>NaN</td>\n",
       "      <td>NaN</td>\n",
       "      <td>NaN</td>\n",
       "      <td>0</td>\n",
       "      <td>9</td>\n",
       "      <td>2008</td>\n",
       "      <td>WD</td>\n",
       "      <td>Normal</td>\n",
       "      <td>223500</td>\n",
       "    </tr>\n",
       "    <tr>\n",
       "      <th>4</th>\n",
       "      <td>70</td>\n",
       "      <td>RL</td>\n",
       "      <td>60.0</td>\n",
       "      <td>9550</td>\n",
       "      <td>Pave</td>\n",
       "      <td>NaN</td>\n",
       "      <td>IR1</td>\n",
       "      <td>Lvl</td>\n",
       "      <td>AllPub</td>\n",
       "      <td>Corner</td>\n",
       "      <td>...</td>\n",
       "      <td>0</td>\n",
       "      <td>NaN</td>\n",
       "      <td>NaN</td>\n",
       "      <td>NaN</td>\n",
       "      <td>0</td>\n",
       "      <td>2</td>\n",
       "      <td>2006</td>\n",
       "      <td>WD</td>\n",
       "      <td>Abnorml</td>\n",
       "      <td>140000</td>\n",
       "    </tr>\n",
       "    <tr>\n",
       "      <th>5</th>\n",
       "      <td>60</td>\n",
       "      <td>RL</td>\n",
       "      <td>84.0</td>\n",
       "      <td>14260</td>\n",
       "      <td>Pave</td>\n",
       "      <td>NaN</td>\n",
       "      <td>IR1</td>\n",
       "      <td>Lvl</td>\n",
       "      <td>AllPub</td>\n",
       "      <td>FR2</td>\n",
       "      <td>...</td>\n",
       "      <td>0</td>\n",
       "      <td>NaN</td>\n",
       "      <td>NaN</td>\n",
       "      <td>NaN</td>\n",
       "      <td>0</td>\n",
       "      <td>12</td>\n",
       "      <td>2008</td>\n",
       "      <td>WD</td>\n",
       "      <td>Normal</td>\n",
       "      <td>250000</td>\n",
       "    </tr>\n",
       "  </tbody>\n",
       "</table>\n",
       "<p>5 rows × 80 columns</p>\n",
       "</div>"
      ],
      "text/plain": [
       "    MSSubClass MSZoning  LotFrontage  LotArea Street Alley LotShape  \\\n",
       "Id                                                                    \n",
       "1           60       RL         65.0     8450   Pave   NaN      Reg   \n",
       "2           20       RL         80.0     9600   Pave   NaN      Reg   \n",
       "3           60       RL         68.0    11250   Pave   NaN      IR1   \n",
       "4           70       RL         60.0     9550   Pave   NaN      IR1   \n",
       "5           60       RL         84.0    14260   Pave   NaN      IR1   \n",
       "\n",
       "   LandContour Utilities LotConfig  ... PoolArea PoolQC Fence MiscFeature  \\\n",
       "Id                                  ...                                     \n",
       "1          Lvl    AllPub    Inside  ...        0    NaN   NaN         NaN   \n",
       "2          Lvl    AllPub       FR2  ...        0    NaN   NaN         NaN   \n",
       "3          Lvl    AllPub    Inside  ...        0    NaN   NaN         NaN   \n",
       "4          Lvl    AllPub    Corner  ...        0    NaN   NaN         NaN   \n",
       "5          Lvl    AllPub       FR2  ...        0    NaN   NaN         NaN   \n",
       "\n",
       "   MiscVal MoSold  YrSold  SaleType  SaleCondition  SalePrice  \n",
       "Id                                                             \n",
       "1        0      2    2008        WD         Normal     208500  \n",
       "2        0      5    2007        WD         Normal     181500  \n",
       "3        0      9    2008        WD         Normal     223500  \n",
       "4        0      2    2006        WD        Abnorml     140000  \n",
       "5        0     12    2008        WD         Normal     250000  \n",
       "\n",
       "[5 rows x 80 columns]"
      ]
     },
     "execution_count": 3,
     "metadata": {},
     "output_type": "execute_result"
    }
   ],
   "source": [
    "X_train_full_raw.head()"
   ]
  },
  {
   "cell_type": "code",
   "execution_count": 4,
   "id": "65890a67",
   "metadata": {
    "execution": {
     "iopub.execute_input": "2025-02-12T09:38:22.901118Z",
     "iopub.status.busy": "2025-02-12T09:38:22.900674Z",
     "iopub.status.idle": "2025-02-12T09:38:22.906924Z",
     "shell.execute_reply": "2025-02-12T09:38:22.905706Z"
    },
    "papermill": {
     "duration": 0.017397,
     "end_time": "2025-02-12T09:38:22.909347",
     "exception": false,
     "start_time": "2025-02-12T09:38:22.891950",
     "status": "completed"
    },
    "tags": []
   },
   "outputs": [
    {
     "name": "stdout",
     "output_type": "stream",
     "text": [
      "X_train_full_raw.shape: (1460, 80)\n",
      "X_test_full_raw.shape: (1459, 79)\n"
     ]
    }
   ],
   "source": [
    "print(f\"X_train_full_raw.shape: {X_train_full_raw.shape}\")\n",
    "print(f\"X_test_full_raw.shape: {X_test_full_raw.shape}\")"
   ]
  },
  {
   "cell_type": "code",
   "execution_count": 5,
   "id": "e8d93a12",
   "metadata": {
    "execution": {
     "iopub.execute_input": "2025-02-12T09:38:22.924171Z",
     "iopub.status.busy": "2025-02-12T09:38:22.923155Z",
     "iopub.status.idle": "2025-02-12T09:38:22.929642Z",
     "shell.execute_reply": "2025-02-12T09:38:22.928463Z"
    },
    "papermill": {
     "duration": 0.016482,
     "end_time": "2025-02-12T09:38:22.932058",
     "exception": false,
     "start_time": "2025-02-12T09:38:22.915576",
     "status": "completed"
    },
    "tags": []
   },
   "outputs": [],
   "source": [
    "X_train_full = X_train_full_raw.copy()\n",
    "X_test_full = X_test_full_raw.copy()"
   ]
  },
  {
   "cell_type": "code",
   "execution_count": 6,
   "id": "6f1055ed",
   "metadata": {
    "execution": {
     "iopub.execute_input": "2025-02-12T09:38:22.946331Z",
     "iopub.status.busy": "2025-02-12T09:38:22.945911Z",
     "iopub.status.idle": "2025-02-12T09:38:23.106424Z",
     "shell.execute_reply": "2025-02-12T09:38:23.105231Z"
    },
    "papermill": {
     "duration": 0.170381,
     "end_time": "2025-02-12T09:38:23.108765",
     "exception": false,
     "start_time": "2025-02-12T09:38:22.938384",
     "status": "completed"
    },
    "tags": []
   },
   "outputs": [
    {
     "data": {
      "text/html": [
       "<div>\n",
       "<style scoped>\n",
       "    .dataframe tbody tr th:only-of-type {\n",
       "        vertical-align: middle;\n",
       "    }\n",
       "\n",
       "    .dataframe tbody tr th {\n",
       "        vertical-align: top;\n",
       "    }\n",
       "\n",
       "    .dataframe thead th {\n",
       "        text-align: right;\n",
       "    }\n",
       "</style>\n",
       "<table border=\"1\" class=\"dataframe\">\n",
       "  <thead>\n",
       "    <tr style=\"text-align: right;\">\n",
       "      <th></th>\n",
       "      <th>MSSubClass</th>\n",
       "      <th>MSZoning</th>\n",
       "      <th>LotFrontage</th>\n",
       "      <th>LotArea</th>\n",
       "      <th>Street</th>\n",
       "      <th>Alley</th>\n",
       "      <th>LotShape</th>\n",
       "      <th>LandContour</th>\n",
       "      <th>Utilities</th>\n",
       "      <th>LotConfig</th>\n",
       "      <th>...</th>\n",
       "      <th>PoolArea</th>\n",
       "      <th>PoolQC</th>\n",
       "      <th>Fence</th>\n",
       "      <th>MiscFeature</th>\n",
       "      <th>MiscVal</th>\n",
       "      <th>MoSold</th>\n",
       "      <th>YrSold</th>\n",
       "      <th>SaleType</th>\n",
       "      <th>SaleCondition</th>\n",
       "      <th>SalePrice</th>\n",
       "    </tr>\n",
       "  </thead>\n",
       "  <tbody>\n",
       "    <tr>\n",
       "      <th>count</th>\n",
       "      <td>1460.000000</td>\n",
       "      <td>1460</td>\n",
       "      <td>1201.000000</td>\n",
       "      <td>1460.000000</td>\n",
       "      <td>1460</td>\n",
       "      <td>91</td>\n",
       "      <td>1460</td>\n",
       "      <td>1460</td>\n",
       "      <td>1460</td>\n",
       "      <td>1460</td>\n",
       "      <td>...</td>\n",
       "      <td>1460.000000</td>\n",
       "      <td>7</td>\n",
       "      <td>281</td>\n",
       "      <td>54</td>\n",
       "      <td>1460.000000</td>\n",
       "      <td>1460.000000</td>\n",
       "      <td>1460.000000</td>\n",
       "      <td>1460</td>\n",
       "      <td>1460</td>\n",
       "      <td>1460.000000</td>\n",
       "    </tr>\n",
       "    <tr>\n",
       "      <th>unique</th>\n",
       "      <td>NaN</td>\n",
       "      <td>5</td>\n",
       "      <td>NaN</td>\n",
       "      <td>NaN</td>\n",
       "      <td>2</td>\n",
       "      <td>2</td>\n",
       "      <td>4</td>\n",
       "      <td>4</td>\n",
       "      <td>2</td>\n",
       "      <td>5</td>\n",
       "      <td>...</td>\n",
       "      <td>NaN</td>\n",
       "      <td>3</td>\n",
       "      <td>4</td>\n",
       "      <td>4</td>\n",
       "      <td>NaN</td>\n",
       "      <td>NaN</td>\n",
       "      <td>NaN</td>\n",
       "      <td>9</td>\n",
       "      <td>6</td>\n",
       "      <td>NaN</td>\n",
       "    </tr>\n",
       "    <tr>\n",
       "      <th>top</th>\n",
       "      <td>NaN</td>\n",
       "      <td>RL</td>\n",
       "      <td>NaN</td>\n",
       "      <td>NaN</td>\n",
       "      <td>Pave</td>\n",
       "      <td>Grvl</td>\n",
       "      <td>Reg</td>\n",
       "      <td>Lvl</td>\n",
       "      <td>AllPub</td>\n",
       "      <td>Inside</td>\n",
       "      <td>...</td>\n",
       "      <td>NaN</td>\n",
       "      <td>Gd</td>\n",
       "      <td>MnPrv</td>\n",
       "      <td>Shed</td>\n",
       "      <td>NaN</td>\n",
       "      <td>NaN</td>\n",
       "      <td>NaN</td>\n",
       "      <td>WD</td>\n",
       "      <td>Normal</td>\n",
       "      <td>NaN</td>\n",
       "    </tr>\n",
       "    <tr>\n",
       "      <th>freq</th>\n",
       "      <td>NaN</td>\n",
       "      <td>1151</td>\n",
       "      <td>NaN</td>\n",
       "      <td>NaN</td>\n",
       "      <td>1454</td>\n",
       "      <td>50</td>\n",
       "      <td>925</td>\n",
       "      <td>1311</td>\n",
       "      <td>1459</td>\n",
       "      <td>1052</td>\n",
       "      <td>...</td>\n",
       "      <td>NaN</td>\n",
       "      <td>3</td>\n",
       "      <td>157</td>\n",
       "      <td>49</td>\n",
       "      <td>NaN</td>\n",
       "      <td>NaN</td>\n",
       "      <td>NaN</td>\n",
       "      <td>1267</td>\n",
       "      <td>1198</td>\n",
       "      <td>NaN</td>\n",
       "    </tr>\n",
       "    <tr>\n",
       "      <th>mean</th>\n",
       "      <td>56.897260</td>\n",
       "      <td>NaN</td>\n",
       "      <td>70.049958</td>\n",
       "      <td>10516.828082</td>\n",
       "      <td>NaN</td>\n",
       "      <td>NaN</td>\n",
       "      <td>NaN</td>\n",
       "      <td>NaN</td>\n",
       "      <td>NaN</td>\n",
       "      <td>NaN</td>\n",
       "      <td>...</td>\n",
       "      <td>2.758904</td>\n",
       "      <td>NaN</td>\n",
       "      <td>NaN</td>\n",
       "      <td>NaN</td>\n",
       "      <td>43.489041</td>\n",
       "      <td>6.321918</td>\n",
       "      <td>2007.815753</td>\n",
       "      <td>NaN</td>\n",
       "      <td>NaN</td>\n",
       "      <td>180921.195890</td>\n",
       "    </tr>\n",
       "    <tr>\n",
       "      <th>std</th>\n",
       "      <td>42.300571</td>\n",
       "      <td>NaN</td>\n",
       "      <td>24.284752</td>\n",
       "      <td>9981.264932</td>\n",
       "      <td>NaN</td>\n",
       "      <td>NaN</td>\n",
       "      <td>NaN</td>\n",
       "      <td>NaN</td>\n",
       "      <td>NaN</td>\n",
       "      <td>NaN</td>\n",
       "      <td>...</td>\n",
       "      <td>40.177307</td>\n",
       "      <td>NaN</td>\n",
       "      <td>NaN</td>\n",
       "      <td>NaN</td>\n",
       "      <td>496.123024</td>\n",
       "      <td>2.703626</td>\n",
       "      <td>1.328095</td>\n",
       "      <td>NaN</td>\n",
       "      <td>NaN</td>\n",
       "      <td>79442.502883</td>\n",
       "    </tr>\n",
       "    <tr>\n",
       "      <th>min</th>\n",
       "      <td>20.000000</td>\n",
       "      <td>NaN</td>\n",
       "      <td>21.000000</td>\n",
       "      <td>1300.000000</td>\n",
       "      <td>NaN</td>\n",
       "      <td>NaN</td>\n",
       "      <td>NaN</td>\n",
       "      <td>NaN</td>\n",
       "      <td>NaN</td>\n",
       "      <td>NaN</td>\n",
       "      <td>...</td>\n",
       "      <td>0.000000</td>\n",
       "      <td>NaN</td>\n",
       "      <td>NaN</td>\n",
       "      <td>NaN</td>\n",
       "      <td>0.000000</td>\n",
       "      <td>1.000000</td>\n",
       "      <td>2006.000000</td>\n",
       "      <td>NaN</td>\n",
       "      <td>NaN</td>\n",
       "      <td>34900.000000</td>\n",
       "    </tr>\n",
       "    <tr>\n",
       "      <th>25%</th>\n",
       "      <td>20.000000</td>\n",
       "      <td>NaN</td>\n",
       "      <td>59.000000</td>\n",
       "      <td>7553.500000</td>\n",
       "      <td>NaN</td>\n",
       "      <td>NaN</td>\n",
       "      <td>NaN</td>\n",
       "      <td>NaN</td>\n",
       "      <td>NaN</td>\n",
       "      <td>NaN</td>\n",
       "      <td>...</td>\n",
       "      <td>0.000000</td>\n",
       "      <td>NaN</td>\n",
       "      <td>NaN</td>\n",
       "      <td>NaN</td>\n",
       "      <td>0.000000</td>\n",
       "      <td>5.000000</td>\n",
       "      <td>2007.000000</td>\n",
       "      <td>NaN</td>\n",
       "      <td>NaN</td>\n",
       "      <td>129975.000000</td>\n",
       "    </tr>\n",
       "    <tr>\n",
       "      <th>50%</th>\n",
       "      <td>50.000000</td>\n",
       "      <td>NaN</td>\n",
       "      <td>69.000000</td>\n",
       "      <td>9478.500000</td>\n",
       "      <td>NaN</td>\n",
       "      <td>NaN</td>\n",
       "      <td>NaN</td>\n",
       "      <td>NaN</td>\n",
       "      <td>NaN</td>\n",
       "      <td>NaN</td>\n",
       "      <td>...</td>\n",
       "      <td>0.000000</td>\n",
       "      <td>NaN</td>\n",
       "      <td>NaN</td>\n",
       "      <td>NaN</td>\n",
       "      <td>0.000000</td>\n",
       "      <td>6.000000</td>\n",
       "      <td>2008.000000</td>\n",
       "      <td>NaN</td>\n",
       "      <td>NaN</td>\n",
       "      <td>163000.000000</td>\n",
       "    </tr>\n",
       "    <tr>\n",
       "      <th>75%</th>\n",
       "      <td>70.000000</td>\n",
       "      <td>NaN</td>\n",
       "      <td>80.000000</td>\n",
       "      <td>11601.500000</td>\n",
       "      <td>NaN</td>\n",
       "      <td>NaN</td>\n",
       "      <td>NaN</td>\n",
       "      <td>NaN</td>\n",
       "      <td>NaN</td>\n",
       "      <td>NaN</td>\n",
       "      <td>...</td>\n",
       "      <td>0.000000</td>\n",
       "      <td>NaN</td>\n",
       "      <td>NaN</td>\n",
       "      <td>NaN</td>\n",
       "      <td>0.000000</td>\n",
       "      <td>8.000000</td>\n",
       "      <td>2009.000000</td>\n",
       "      <td>NaN</td>\n",
       "      <td>NaN</td>\n",
       "      <td>214000.000000</td>\n",
       "    </tr>\n",
       "    <tr>\n",
       "      <th>max</th>\n",
       "      <td>190.000000</td>\n",
       "      <td>NaN</td>\n",
       "      <td>313.000000</td>\n",
       "      <td>215245.000000</td>\n",
       "      <td>NaN</td>\n",
       "      <td>NaN</td>\n",
       "      <td>NaN</td>\n",
       "      <td>NaN</td>\n",
       "      <td>NaN</td>\n",
       "      <td>NaN</td>\n",
       "      <td>...</td>\n",
       "      <td>738.000000</td>\n",
       "      <td>NaN</td>\n",
       "      <td>NaN</td>\n",
       "      <td>NaN</td>\n",
       "      <td>15500.000000</td>\n",
       "      <td>12.000000</td>\n",
       "      <td>2010.000000</td>\n",
       "      <td>NaN</td>\n",
       "      <td>NaN</td>\n",
       "      <td>755000.000000</td>\n",
       "    </tr>\n",
       "  </tbody>\n",
       "</table>\n",
       "<p>11 rows × 80 columns</p>\n",
       "</div>"
      ],
      "text/plain": [
       "         MSSubClass MSZoning  LotFrontage        LotArea Street Alley  \\\n",
       "count   1460.000000     1460  1201.000000    1460.000000   1460    91   \n",
       "unique          NaN        5          NaN            NaN      2     2   \n",
       "top             NaN       RL          NaN            NaN   Pave  Grvl   \n",
       "freq            NaN     1151          NaN            NaN   1454    50   \n",
       "mean      56.897260      NaN    70.049958   10516.828082    NaN   NaN   \n",
       "std       42.300571      NaN    24.284752    9981.264932    NaN   NaN   \n",
       "min       20.000000      NaN    21.000000    1300.000000    NaN   NaN   \n",
       "25%       20.000000      NaN    59.000000    7553.500000    NaN   NaN   \n",
       "50%       50.000000      NaN    69.000000    9478.500000    NaN   NaN   \n",
       "75%       70.000000      NaN    80.000000   11601.500000    NaN   NaN   \n",
       "max      190.000000      NaN   313.000000  215245.000000    NaN   NaN   \n",
       "\n",
       "       LotShape LandContour Utilities LotConfig  ...     PoolArea PoolQC  \\\n",
       "count      1460        1460      1460      1460  ...  1460.000000      7   \n",
       "unique        4           4         2         5  ...          NaN      3   \n",
       "top         Reg         Lvl    AllPub    Inside  ...          NaN     Gd   \n",
       "freq        925        1311      1459      1052  ...          NaN      3   \n",
       "mean        NaN         NaN       NaN       NaN  ...     2.758904    NaN   \n",
       "std         NaN         NaN       NaN       NaN  ...    40.177307    NaN   \n",
       "min         NaN         NaN       NaN       NaN  ...     0.000000    NaN   \n",
       "25%         NaN         NaN       NaN       NaN  ...     0.000000    NaN   \n",
       "50%         NaN         NaN       NaN       NaN  ...     0.000000    NaN   \n",
       "75%         NaN         NaN       NaN       NaN  ...     0.000000    NaN   \n",
       "max         NaN         NaN       NaN       NaN  ...   738.000000    NaN   \n",
       "\n",
       "        Fence MiscFeature       MiscVal       MoSold       YrSold  SaleType  \\\n",
       "count     281          54   1460.000000  1460.000000  1460.000000      1460   \n",
       "unique      4           4           NaN          NaN          NaN         9   \n",
       "top     MnPrv        Shed           NaN          NaN          NaN        WD   \n",
       "freq      157          49           NaN          NaN          NaN      1267   \n",
       "mean      NaN         NaN     43.489041     6.321918  2007.815753       NaN   \n",
       "std       NaN         NaN    496.123024     2.703626     1.328095       NaN   \n",
       "min       NaN         NaN      0.000000     1.000000  2006.000000       NaN   \n",
       "25%       NaN         NaN      0.000000     5.000000  2007.000000       NaN   \n",
       "50%       NaN         NaN      0.000000     6.000000  2008.000000       NaN   \n",
       "75%       NaN         NaN      0.000000     8.000000  2009.000000       NaN   \n",
       "max       NaN         NaN  15500.000000    12.000000  2010.000000       NaN   \n",
       "\n",
       "        SaleCondition      SalePrice  \n",
       "count            1460    1460.000000  \n",
       "unique              6            NaN  \n",
       "top            Normal            NaN  \n",
       "freq             1198            NaN  \n",
       "mean              NaN  180921.195890  \n",
       "std               NaN   79442.502883  \n",
       "min               NaN   34900.000000  \n",
       "25%               NaN  129975.000000  \n",
       "50%               NaN  163000.000000  \n",
       "75%               NaN  214000.000000  \n",
       "max               NaN  755000.000000  \n",
       "\n",
       "[11 rows x 80 columns]"
      ]
     },
     "execution_count": 6,
     "metadata": {},
     "output_type": "execute_result"
    }
   ],
   "source": [
    "X_train_full.describe(include='all')"
   ]
  },
  {
   "cell_type": "code",
   "execution_count": 7,
   "id": "52e7d517",
   "metadata": {
    "execution": {
     "iopub.execute_input": "2025-02-12T09:38:23.123942Z",
     "iopub.status.busy": "2025-02-12T09:38:23.123546Z",
     "iopub.status.idle": "2025-02-12T09:38:23.136484Z",
     "shell.execute_reply": "2025-02-12T09:38:23.135360Z"
    },
    "papermill": {
     "duration": 0.022893,
     "end_time": "2025-02-12T09:38:23.138505",
     "exception": false,
     "start_time": "2025-02-12T09:38:23.115612",
     "status": "completed"
    },
    "tags": []
   },
   "outputs": [
    {
     "data": {
      "text/plain": [
       "PoolQC          1453\n",
       "MiscFeature     1406\n",
       "Alley           1369\n",
       "Fence           1179\n",
       "MasVnrType       872\n",
       "FireplaceQu      690\n",
       "LotFrontage      259\n",
       "GarageYrBlt       81\n",
       "GarageCond        81\n",
       "GarageType        81\n",
       "GarageFinish      81\n",
       "GarageQual        81\n",
       "BsmtExposure      38\n",
       "BsmtFinType2      38\n",
       "BsmtCond          37\n",
       "BsmtQual          37\n",
       "BsmtFinType1      37\n",
       "MasVnrArea         8\n",
       "Electrical         1\n",
       "dtype: int64"
      ]
     },
     "execution_count": 7,
     "metadata": {},
     "output_type": "execute_result"
    }
   ],
   "source": [
    "# Check for missing values\n",
    "missing_values = X_train_full.isnull().sum().sort_values(ascending=False)\n",
    "missing_values[missing_values != 0]"
   ]
  },
  {
   "cell_type": "code",
   "execution_count": 8,
   "id": "d75d3f76",
   "metadata": {
    "execution": {
     "iopub.execute_input": "2025-02-12T09:38:23.153776Z",
     "iopub.status.busy": "2025-02-12T09:38:23.153395Z",
     "iopub.status.idle": "2025-02-12T09:38:23.164255Z",
     "shell.execute_reply": "2025-02-12T09:38:23.162905Z"
    },
    "papermill": {
     "duration": 0.021077,
     "end_time": "2025-02-12T09:38:23.166530",
     "exception": false,
     "start_time": "2025-02-12T09:38:23.145453",
     "status": "completed"
    },
    "tags": []
   },
   "outputs": [
    {
     "name": "stdout",
     "output_type": "stream",
     "text": [
      "Columns to drop: ['PoolQC', 'MiscFeature', 'Alley', 'Fence', 'MasVnrType', 'FireplaceQu']\n"
     ]
    }
   ],
   "source": [
    "# Identify columns to drop: missing values with over 20% of dataset\n",
    "columns_to_drop = missing_values[missing_values >= 1460*0.2].index\n",
    "print(f\"Columns to drop: {columns_to_drop.tolist()}\")\n",
    "\n",
    "# Drop columns from the dataset\n",
    "X_train_full = X_train_full.drop(columns=columns_to_drop, axis=1)\n",
    "X_test_full = X_test_full.drop(columns=columns_to_drop, axis=1)"
   ]
  },
  {
   "cell_type": "code",
   "execution_count": 9,
   "id": "a9b49e9f",
   "metadata": {
    "execution": {
     "iopub.execute_input": "2025-02-12T09:38:23.182711Z",
     "iopub.status.busy": "2025-02-12T09:38:23.181935Z",
     "iopub.status.idle": "2025-02-12T09:38:23.188185Z",
     "shell.execute_reply": "2025-02-12T09:38:23.186826Z"
    },
    "papermill": {
     "duration": 0.016848,
     "end_time": "2025-02-12T09:38:23.190425",
     "exception": false,
     "start_time": "2025-02-12T09:38:23.173577",
     "status": "completed"
    },
    "tags": []
   },
   "outputs": [
    {
     "name": "stdout",
     "output_type": "stream",
     "text": [
      "X_train_full.shape: (1460, 74)\n",
      "X_test_full.shape: (1459, 73)\n"
     ]
    }
   ],
   "source": [
    "# Check the consistency of train, test data\n",
    "print(f\"X_train_full.shape: {X_train_full.shape}\")\n",
    "print(f\"X_test_full.shape: {X_test_full.shape}\")"
   ]
  },
  {
   "cell_type": "code",
   "execution_count": 10,
   "id": "e600f61c",
   "metadata": {
    "execution": {
     "iopub.execute_input": "2025-02-12T09:38:23.206115Z",
     "iopub.status.busy": "2025-02-12T09:38:23.205706Z",
     "iopub.status.idle": "2025-02-12T09:38:23.215848Z",
     "shell.execute_reply": "2025-02-12T09:38:23.214885Z"
    },
    "papermill": {
     "duration": 0.020481,
     "end_time": "2025-02-12T09:38:23.218095",
     "exception": false,
     "start_time": "2025-02-12T09:38:23.197614",
     "status": "completed"
    },
    "tags": []
   },
   "outputs": [],
   "source": [
    "# Remove rows with missing target, separate target from predictors\n",
    "X_train_full.dropna(axis=0, subset=['SalePrice'], inplace=True)\n",
    "y = X_train_full['SalePrice']\n",
    "\n",
    "X_train_full.drop(['SalePrice'], axis=1, inplace=True)"
   ]
  },
  {
   "cell_type": "code",
   "execution_count": 11,
   "id": "4e3dd425",
   "metadata": {
    "execution": {
     "iopub.execute_input": "2025-02-12T09:38:23.233597Z",
     "iopub.status.busy": "2025-02-12T09:38:23.233204Z",
     "iopub.status.idle": "2025-02-12T09:38:23.245100Z",
     "shell.execute_reply": "2025-02-12T09:38:23.243773Z"
    },
    "papermill": {
     "duration": 0.022306,
     "end_time": "2025-02-12T09:38:23.247426",
     "exception": false,
     "start_time": "2025-02-12T09:38:23.225120",
     "status": "completed"
    },
    "tags": []
   },
   "outputs": [
    {
     "name": "stdout",
     "output_type": "stream",
     "text": [
      "Train.shape = ((1168, 73), (1168,))\n",
      "Validation.shape = ((292, 73), (292,))\n"
     ]
    }
   ],
   "source": [
    "train_X, val_X, train_y, val_y = train_test_split(X_train_full, y, test_size=0.2, random_state=1)\n",
    "\n",
    "print(f\"Train.shape = {train_X.shape, train_y.shape}\")\n",
    "print(f\"Validation.shape = {val_X.shape, val_y.shape}\")"
   ]
  },
  {
   "cell_type": "code",
   "execution_count": 12,
   "id": "929418b7",
   "metadata": {
    "execution": {
     "iopub.execute_input": "2025-02-12T09:38:23.263993Z",
     "iopub.status.busy": "2025-02-12T09:38:23.263581Z",
     "iopub.status.idle": "2025-02-12T09:38:23.270089Z",
     "shell.execute_reply": "2025-02-12T09:38:23.269130Z"
    },
    "papermill": {
     "duration": 0.01756,
     "end_time": "2025-02-12T09:38:23.272007",
     "exception": false,
     "start_time": "2025-02-12T09:38:23.254447",
     "status": "completed"
    },
    "tags": []
   },
   "outputs": [],
   "source": [
    "# Select categorical columns\n",
    "categorical_cols = X_train_full.select_dtypes(include='object').columns\n",
    "\n",
    "# Select numerical columns\n",
    "numerical_cols = X_train_full.select_dtypes(include=['int64', 'float64']).columns"
   ]
  },
  {
   "cell_type": "markdown",
   "id": "8677bf61",
   "metadata": {
    "papermill": {
     "duration": 0.006665,
     "end_time": "2025-02-12T09:38:23.285589",
     "exception": false,
     "start_time": "2025-02-12T09:38:23.278924",
     "status": "completed"
    },
    "tags": []
   },
   "source": [
    "# EDA"
   ]
  },
  {
   "cell_type": "markdown",
   "id": "6e8875c9",
   "metadata": {
    "papermill": {
     "duration": 0.007541,
     "end_time": "2025-02-12T09:38:23.300273",
     "exception": false,
     "start_time": "2025-02-12T09:38:23.292732",
     "status": "completed"
    },
    "tags": []
   },
   "source": [
    "### Understand the Target Variable (SalePrice)"
   ]
  },
  {
   "cell_type": "code",
   "execution_count": 13,
   "id": "c5526841",
   "metadata": {
    "execution": {
     "iopub.execute_input": "2025-02-12T09:38:23.316422Z",
     "iopub.status.busy": "2025-02-12T09:38:23.316059Z",
     "iopub.status.idle": "2025-02-12T09:38:23.751690Z",
     "shell.execute_reply": "2025-02-12T09:38:23.750584Z"
    },
    "papermill": {
     "duration": 0.446472,
     "end_time": "2025-02-12T09:38:23.754138",
     "exception": false,
     "start_time": "2025-02-12T09:38:23.307666",
     "status": "completed"
    },
    "tags": []
   },
   "outputs": [
    {
     "name": "stderr",
     "output_type": "stream",
     "text": [
      "/opt/conda/lib/python3.10/site-packages/seaborn/_oldcore.py:1119: FutureWarning: use_inf_as_na option is deprecated and will be removed in a future version. Convert inf values to NaN before operating instead.\n",
      "  with pd.option_context('mode.use_inf_as_na', True):\n"
     ]
    },
    {
     "data": {
      "image/png": "[encoded data removed]",
      "text/plain": [
       "<Figure size 640x480 with 1 Axes>"
      ]
     },
     "metadata": {},
     "output_type": "display_data"
    }
   ],
   "source": [
    "sns.histplot(y, kde=True)\n",
    "plt.title('Distribution of SalePrice')\n",
    "plt.xlabel('SalePrice')\n",
    "plt.ylabel('Frequency')\n",
    "plt.show()"
   ]
  },
  {
   "cell_type": "markdown",
   "id": "1ba3de07",
   "metadata": {
    "papermill": {
     "duration": 0.007455,
     "end_time": "2025-02-12T09:38:23.769337",
     "exception": false,
     "start_time": "2025-02-12T09:38:23.761882",
     "status": "completed"
    },
    "tags": []
   },
   "source": [
    "### Explore Numerical Features\n"
   ]
  },
  {
   "cell_type": "code",
   "execution_count": 14,
   "id": "e25ab496",
   "metadata": {
    "execution": {
     "iopub.execute_input": "2025-02-12T09:38:23.788161Z",
     "iopub.status.busy": "2025-02-12T09:38:23.787752Z",
     "iopub.status.idle": "2025-02-12T09:38:24.375051Z",
     "shell.execute_reply": "2025-02-12T09:38:24.373884Z"
    },
    "papermill": {
     "duration": 0.599893,
     "end_time": "2025-02-12T09:38:24.378475",
     "exception": false,
     "start_time": "2025-02-12T09:38:23.778582",
     "status": "completed"
    },
    "tags": []
   },
   "outputs": [
    {
     "data": {
      "image/png": "[encoded data removed]",
      "text/plain": [
       "<Figure size 1200x1200 with 1 Axes>"
      ]
     },
     "metadata": {},
     "output_type": "display_data"
    }
   ],
   "source": [
    "correlation_df = train_X[numerical_cols].corrwith(train_y).sort_values(ascending=False).reset_index()\n",
    "correlation_df.columns = ['Feature', 'Correlation']\n",
    "\n",
    "# Plot\n",
    "plt.figure(figsize=(12,12))\n",
    "\n",
    "plt.scatter(correlation_df['Feature'], correlation_df['Correlation'])\n",
    "\n",
    "# Add y-axis values on each point\n",
    "for i in range(len(correlation_df)):\n",
    "    plt.text(\n",
    "        correlation_df['Feature'][i],  # x-coordinate\n",
    "        correlation_df['Correlation'][i],  # y-coordinate\n",
    "        f\"{correlation_df['Correlation'][i]:.2f}\",  # Label text \n",
    "        ha='center',  # Horizontal alignment\n",
    "        va='bottom',  # Vertical alignment\n",
    "        fontsize=8,   # Font size\n",
    "    )\n",
    "\n",
    "plt.title('Correlation of Numerical Features with SalePrice')\n",
    "plt.xlabel('Features')\n",
    "plt.ylabel('Correlation with SalePrice')\n",
    "\n",
    "plt.xticks(rotation=90)\n",
    "plt.show()"
   ]
  },
  {
   "cell_type": "code",
   "execution_count": 15,
   "id": "f0837344",
   "metadata": {
    "execution": {
     "iopub.execute_input": "2025-02-12T09:38:24.399091Z",
     "iopub.status.busy": "2025-02-12T09:38:24.398674Z",
     "iopub.status.idle": "2025-02-12T09:38:24.405894Z",
     "shell.execute_reply": "2025-02-12T09:38:24.404701Z"
    },
    "papermill": {
     "duration": 0.019889,
     "end_time": "2025-02-12T09:38:24.408197",
     "exception": false,
     "start_time": "2025-02-12T09:38:24.388308",
     "status": "completed"
    },
    "tags": []
   },
   "outputs": [
    {
     "name": "stdout",
     "output_type": "stream",
     "text": [
      "['OverallQual', 'GrLivArea', 'GarageCars', 'GarageArea', 'TotalBsmtSF', '1stFlrSF', 'FullBath', 'TotRmsAbvGrd', 'YearBuilt', 'YearRemodAdd', 'GarageYrBlt', 'MasVnrArea', 'Fireplaces']\n"
     ]
    }
   ],
   "source": [
    "# Select numerical columns whose correlation > 0.4\n",
    "high_correlation_num_cols = correlation_df[correlation_df['Correlation'] > 0.4]['Feature'].tolist()\n",
    "print(high_correlation_num_cols)"
   ]
  },
  {
   "cell_type": "markdown",
   "id": "6715b0e9",
   "metadata": {
    "papermill": {
     "duration": 0.00869,
     "end_time": "2025-02-12T09:38:24.426050",
     "exception": false,
     "start_time": "2025-02-12T09:38:24.417360",
     "status": "completed"
    },
    "tags": []
   },
   "source": [
    "### Explore Categorical Features\n",
    "**Cardinality of Categorical Features**\n",
    "* High-cardinality columns (e.g., Street or Neighborhood) may need encoding strategies like target encoding or one-hot encoding.\n"
   ]
  },
  {
   "cell_type": "code",
   "execution_count": 16,
   "id": "dba66e0d",
   "metadata": {
    "execution": {
     "iopub.execute_input": "2025-02-12T09:38:24.446364Z",
     "iopub.status.busy": "2025-02-12T09:38:24.445946Z",
     "iopub.status.idle": "2025-02-12T09:38:24.462522Z",
     "shell.execute_reply": "2025-02-12T09:38:24.461349Z"
    },
    "papermill": {
     "duration": 0.029314,
     "end_time": "2025-02-12T09:38:24.464842",
     "exception": false,
     "start_time": "2025-02-12T09:38:24.435528",
     "status": "completed"
    },
    "tags": []
   },
   "outputs": [
    {
     "name": "stdout",
     "output_type": "stream",
     "text": [
      "Neighborhood     25\n",
      "Exterior2nd      16\n",
      "Exterior1st      15\n",
      "SaleType          9\n",
      "Condition1        9\n",
      "Condition2        8\n",
      "HouseStyle        8\n",
      "RoofMatl          8\n",
      "Functional        7\n",
      "Foundation        6\n",
      "GarageType        6\n",
      "Heating           6\n",
      "BsmtFinType2      6\n",
      "BsmtFinType1      6\n",
      "SaleCondition     6\n",
      "RoofStyle         6\n",
      "BldgType          5\n",
      "GarageCond        5\n",
      "GarageQual        5\n",
      "Electrical        5\n",
      "HeatingQC         5\n",
      "LotConfig         5\n",
      "MSZoning          5\n",
      "ExterCond         5\n",
      "BsmtExposure      4\n",
      "BsmtCond          4\n",
      "ExterQual         4\n",
      "BsmtQual          4\n",
      "KitchenQual       4\n",
      "LandContour       4\n",
      "LotShape          4\n",
      "LandSlope         3\n",
      "GarageFinish      3\n",
      "PavedDrive        3\n",
      "Utilities         2\n",
      "Street            2\n",
      "CentralAir        2\n",
      "dtype: int64\n"
     ]
    }
   ],
   "source": [
    "cardinality = X_train_full[categorical_cols].nunique().sort_values(ascending=False)\n",
    "print(cardinality)"
   ]
  },
  {
   "cell_type": "code",
   "execution_count": 17,
   "id": "c24c22df",
   "metadata": {
    "execution": {
     "iopub.execute_input": "2025-02-12T09:38:24.484937Z",
     "iopub.status.busy": "2025-02-12T09:38:24.484513Z",
     "iopub.status.idle": "2025-02-12T09:38:24.490346Z",
     "shell.execute_reply": "2025-02-12T09:38:24.489336Z"
    },
    "papermill": {
     "duration": 0.018466,
     "end_time": "2025-02-12T09:38:24.492584",
     "exception": false,
     "start_time": "2025-02-12T09:38:24.474118",
     "status": "completed"
    },
    "tags": []
   },
   "outputs": [
    {
     "name": "stdout",
     "output_type": "stream",
     "text": [
      "['SaleType', 'Condition1', 'Condition2', 'HouseStyle', 'RoofMatl', 'Functional', 'Foundation', 'GarageType', 'Heating', 'BsmtFinType2', 'BsmtFinType1', 'SaleCondition', 'RoofStyle', 'BldgType', 'GarageCond', 'GarageQual', 'Electrical', 'HeatingQC', 'LotConfig', 'MSZoning', 'ExterCond', 'BsmtExposure', 'BsmtCond', 'ExterQual', 'BsmtQual', 'KitchenQual', 'LandContour', 'LotShape', 'LandSlope', 'GarageFinish', 'PavedDrive', 'Utilities', 'Street', 'CentralAir']\n"
     ]
    }
   ],
   "source": [
    "# Select low cardinality columns (fewer than 10 unique values)\n",
    "low_cardinality_cat_cols = [cat_feature for cat_feature in cardinality.index if cardinality[cat_feature] < 10]\n",
    "print(low_cardinality_cat_cols)"
   ]
  },
  {
   "cell_type": "markdown",
   "id": "5e59ddff",
   "metadata": {
    "papermill": {
     "duration": 0.009113,
     "end_time": "2025-02-12T09:38:24.511038",
     "exception": false,
     "start_time": "2025-02-12T09:38:24.501925",
     "status": "completed"
    },
    "tags": []
   },
   "source": [
    "# Pipeline"
   ]
  },
  {
   "cell_type": "code",
   "execution_count": 18,
   "id": "55702e94",
   "metadata": {
    "execution": {
     "iopub.execute_input": "2025-02-12T09:38:24.532184Z",
     "iopub.status.busy": "2025-02-12T09:38:24.531778Z",
     "iopub.status.idle": "2025-02-12T09:38:24.538198Z",
     "shell.execute_reply": "2025-02-12T09:38:24.536944Z"
    },
    "papermill": {
     "duration": 0.019442,
     "end_time": "2025-02-12T09:38:24.540305",
     "exception": false,
     "start_time": "2025-02-12T09:38:24.520863",
     "status": "completed"
    },
    "tags": []
   },
   "outputs": [],
   "source": [
    "# Preprocessing for numerical data\n",
    "numerical_transformer = Pipeline(steps=[\n",
    "    ('imputer', SimpleImputer(strategy='constant')),\n",
    "    ('scaler', StandardScaler())])\n",
    "\n",
    "# Preprocessing for categorical data\n",
    "categorical_transformer = Pipeline(steps=[\n",
    "    ('imputer', SimpleImputer(strategy='most_frequent')),\n",
    "    ('onehot', OneHotEncoder(handle_unknown='ignore'))\n",
    "])\n",
    "\n",
    "# Bundle preprocessing for numerical and categorical data\n",
    "preprocessor = ColumnTransformer(\n",
    "    transformers=[\n",
    "        ('num', numerical_transformer, high_correlation_num_cols),\n",
    "        ('cat', categorical_transformer, low_cardinality_cat_cols)\n",
    "    ])\n"
   ]
  },
  {
   "cell_type": "markdown",
   "id": "4ea54e74",
   "metadata": {
    "papermill": {
     "duration": 0.009428,
     "end_time": "2025-02-12T09:38:24.559139",
     "exception": false,
     "start_time": "2025-02-12T09:38:24.549711",
     "status": "completed"
    },
    "tags": []
   },
   "source": [
    "# Model"
   ]
  },
  {
   "cell_type": "code",
   "execution_count": 19,
   "id": "869cccb2",
   "metadata": {
    "execution": {
     "iopub.execute_input": "2025-02-12T09:38:24.579821Z",
     "iopub.status.busy": "2025-02-12T09:38:24.579428Z",
     "iopub.status.idle": "2025-02-12T09:38:31.279157Z",
     "shell.execute_reply": "2025-02-12T09:38:31.277982Z"
    },
    "papermill": {
     "duration": 6.71285,
     "end_time": "2025-02-12T09:38:31.281522",
     "exception": false,
     "start_time": "2025-02-12T09:38:24.568672",
     "status": "completed"
    },
    "tags": []
   },
   "outputs": [
    {
     "data": {
      "text/html": [
       "<style>#sk-container-id-1 {color: black;background-color: white;}#sk-container-id-1 pre{padding: 0;}#sk-container-id-1 div.sk-toggleable {background-color: white;}#sk-container-id-1 label.sk-toggleable__label {cursor: pointer;display: block;width: 100%;margin-bottom: 0;padding: 0.3em;box-sizing: border-box;text-align: center;}#sk-container-id-1 label.sk-toggleable__label-arrow:before {content: \"▸\";float: left;margin-right: 0.25em;color: #696969;}#sk-container-id-1 label.sk-toggleable__label-arrow:hover:before {color: black;}#sk-container-id-1 div.sk-estimator:hover label.sk-toggleable__label-arrow:before {color: black;}#sk-container-id-1 div.sk-toggleable__content {max-height: 0;max-width: 0;overflow: hidden;text-align: left;background-color: #f0f8ff;}#sk-container-id-1 div.sk-toggleable__content pre {margin: 0.2em;color: black;border-radius: 0.25em;background-color: #f0f8ff;}#sk-container-id-1 input.sk-toggleable__control:checked~div.sk-toggleable__content {max-height: 200px;max-width: 100%;overflow: auto;}#sk-container-id-1 input.sk-toggleable__control:checked~label.sk-toggleable__label-arrow:before {content: \"▾\";}#sk-container-id-1 div.sk-estimator input.sk-toggleable__control:checked~label.sk-toggleable__label {background-color: #d4ebff;}#sk-container-id-1 div.sk-label input.sk-toggleable__control:checked~label.sk-toggleable__label {background-color: #d4ebff;}#sk-container-id-1 input.sk-hidden--visually {border: 0;clip: rect(1px 1px 1px 1px);clip: rect(1px, 1px, 1px, 1px);height: 1px;margin: -1px;overflow: hidden;padding: 0;position: absolute;width: 1px;}#sk-container-id-1 div.sk-estimator {font-family: monospace;background-color: #f0f8ff;border: 1px dotted black;border-radius: 0.25em;box-sizing: border-box;margin-bottom: 0.5em;}#sk-container-id-1 div.sk-estimator:hover {background-color: #d4ebff;}#sk-container-id-1 div.sk-parallel-item::after {content: \"\";width: 100%;border-bottom: 1px solid gray;flex-grow: 1;}#sk-container-id-1 div.sk-label:hover label.sk-toggleable__label {background-color: #d4ebff;}#sk-container-id-1 div.sk-serial::before {content: \"\";position: absolute;border-left: 1px solid gray;box-sizing: border-box;top: 0;bottom: 0;left: 50%;z-index: 0;}#sk-container-id-1 div.sk-serial {display: flex;flex-direction: column;align-items: center;background-color: white;padding-right: 0.2em;padding-left: 0.2em;position: relative;}#sk-container-id-1 div.sk-item {position: relative;z-index: 1;}#sk-container-id-1 div.sk-parallel {display: flex;align-items: stretch;justify-content: center;background-color: white;position: relative;}#sk-container-id-1 div.sk-item::before, #sk-container-id-1 div.sk-parallel-item::before {content: \"\";position: absolute;border-left: 1px solid gray;box-sizing: border-box;top: 0;bottom: 0;left: 50%;z-index: -1;}#sk-container-id-1 div.sk-parallel-item {display: flex;flex-direction: column;z-index: 1;position: relative;background-color: white;}#sk-container-id-1 div.sk-parallel-item:first-child::after {align-self: flex-end;width: 50%;}#sk-container-id-1 div.sk-parallel-item:last-child::after {align-self: flex-start;width: 50%;}#sk-container-id-1 div.sk-parallel-item:only-child::after {width: 0;}#sk-container-id-1 div.sk-dashed-wrapped {border: 1px dashed gray;margin: 0 0.4em 0.5em 0.4em;box-sizing: border-box;padding-bottom: 0.4em;background-color: white;}#sk-container-id-1 div.sk-label label {font-family: monospace;font-weight: bold;display: inline-block;line-height: 1.2em;}#sk-container-id-1 div.sk-label-container {text-align: center;}#sk-container-id-1 div.sk-container {/* jupyter's `normalize.less` sets `[hidden] { display: none; }` but bootstrap.min.css set `[hidden] { display: none !important; }` so we also need the `!important` here to be able to override the default hidden behavior on the sphinx rendered scikit-learn.org. See: https://github.com/scikit-learn/scikit-learn/issues/21755 */display: inline-block !important;position: relative;}#sk-container-id-1 div.sk-text-repr-fallback {display: none;}</style><div id=\"sk-container-id-1\" class=\"sk-top-container\"><div class=\"sk-text-repr-fallback\"><pre>Pipeline(steps=[(&#x27;preprocessor&#x27;,\n",
       "                 ColumnTransformer(transformers=[(&#x27;num&#x27;,\n",
       "                                                  Pipeline(steps=[(&#x27;imputer&#x27;,\n",
       "                                                                   SimpleImputer(strategy=&#x27;constant&#x27;)),\n",
       "                                                                  (&#x27;scaler&#x27;,\n",
       "                                                                   StandardScaler())]),\n",
       "                                                  [&#x27;OverallQual&#x27;, &#x27;GrLivArea&#x27;,\n",
       "                                                   &#x27;GarageCars&#x27;, &#x27;GarageArea&#x27;,\n",
       "                                                   &#x27;TotalBsmtSF&#x27;, &#x27;1stFlrSF&#x27;,\n",
       "                                                   &#x27;FullBath&#x27;, &#x27;TotRmsAbvGrd&#x27;,\n",
       "                                                   &#x27;YearBuilt&#x27;, &#x27;YearRemodAdd&#x27;,\n",
       "                                                   &#x27;GarageYrBlt&#x27;, &#x27;MasVnrArea&#x27;,\n",
       "                                                   &#x27;Fireplaces&#x27;]),\n",
       "                                                 (&#x27;cat&#x27;,\n",
       "                                                  Pipeli...\n",
       "                                                   &#x27;Foundation&#x27;, &#x27;GarageType&#x27;,\n",
       "                                                   &#x27;Heating&#x27;, &#x27;BsmtFinType2&#x27;,\n",
       "                                                   &#x27;BsmtFinType1&#x27;,\n",
       "                                                   &#x27;SaleCondition&#x27;, &#x27;RoofStyle&#x27;,\n",
       "                                                   &#x27;BldgType&#x27;, &#x27;GarageCond&#x27;,\n",
       "                                                   &#x27;GarageQual&#x27;, &#x27;Electrical&#x27;,\n",
       "                                                   &#x27;HeatingQC&#x27;, &#x27;LotConfig&#x27;,\n",
       "                                                   &#x27;MSZoning&#x27;, &#x27;ExterCond&#x27;,\n",
       "                                                   &#x27;BsmtExposure&#x27;, &#x27;BsmtCond&#x27;,\n",
       "                                                   &#x27;ExterQual&#x27;, &#x27;BsmtQual&#x27;,\n",
       "                                                   &#x27;KitchenQual&#x27;, &#x27;LandContour&#x27;,\n",
       "                                                   &#x27;LotShape&#x27;, &#x27;LandSlope&#x27;,\n",
       "                                                   &#x27;GarageFinish&#x27;, ...])])),\n",
       "                (&#x27;model&#x27;, RandomForestRegressor(random_state=1))])</pre><b>In a Jupyter environment, please rerun this cell to show the HTML representation or trust the notebook. <br />On GitHub, the HTML representation is unable to render, please try loading this page with nbviewer.org.</b></div><div class=\"sk-container\" hidden><div class=\"sk-item sk-dashed-wrapped\"><div class=\"sk-label-container\"><div class=\"sk-label sk-toggleable\"><input class=\"sk-toggleable__control sk-hidden--visually\" id=\"sk-estimator-id-1\" type=\"checkbox\" ><label for=\"sk-estimator-id-1\" class=\"sk-toggleable__label sk-toggleable__label-arrow\">Pipeline</label><div class=\"sk-toggleable__content\"><pre>Pipeline(steps=[(&#x27;preprocessor&#x27;,\n",
       "                 ColumnTransformer(transformers=[(&#x27;num&#x27;,\n",
       "                                                  Pipeline(steps=[(&#x27;imputer&#x27;,\n",
       "                                                                   SimpleImputer(strategy=&#x27;constant&#x27;)),\n",
       "                                                                  (&#x27;scaler&#x27;,\n",
       "                                                                   StandardScaler())]),\n",
       "                                                  [&#x27;OverallQual&#x27;, &#x27;GrLivArea&#x27;,\n",
       "                                                   &#x27;GarageCars&#x27;, &#x27;GarageArea&#x27;,\n",
       "                                                   &#x27;TotalBsmtSF&#x27;, &#x27;1stFlrSF&#x27;,\n",
       "                                                   &#x27;FullBath&#x27;, &#x27;TotRmsAbvGrd&#x27;,\n",
       "                                                   &#x27;YearBuilt&#x27;, &#x27;YearRemodAdd&#x27;,\n",
       "                                                   &#x27;GarageYrBlt&#x27;, &#x27;MasVnrArea&#x27;,\n",
       "                                                   &#x27;Fireplaces&#x27;]),\n",
       "                                                 (&#x27;cat&#x27;,\n",
       "                                                  Pipeli...\n",
       "                                                   &#x27;Foundation&#x27;, &#x27;GarageType&#x27;,\n",
       "                                                   &#x27;Heating&#x27;, &#x27;BsmtFinType2&#x27;,\n",
       "                                                   &#x27;BsmtFinType1&#x27;,\n",
       "                                                   &#x27;SaleCondition&#x27;, &#x27;RoofStyle&#x27;,\n",
       "                                                   &#x27;BldgType&#x27;, &#x27;GarageCond&#x27;,\n",
       "                                                   &#x27;GarageQual&#x27;, &#x27;Electrical&#x27;,\n",
       "                                                   &#x27;HeatingQC&#x27;, &#x27;LotConfig&#x27;,\n",
       "                                                   &#x27;MSZoning&#x27;, &#x27;ExterCond&#x27;,\n",
       "                                                   &#x27;BsmtExposure&#x27;, &#x27;BsmtCond&#x27;,\n",
       "                                                   &#x27;ExterQual&#x27;, &#x27;BsmtQual&#x27;,\n",
       "                                                   &#x27;KitchenQual&#x27;, &#x27;LandContour&#x27;,\n",
       "                                                   &#x27;LotShape&#x27;, &#x27;LandSlope&#x27;,\n",
       "                                                   &#x27;GarageFinish&#x27;, ...])])),\n",
       "                (&#x27;model&#x27;, RandomForestRegressor(random_state=1))])</pre></div></div></div><div class=\"sk-serial\"><div class=\"sk-item sk-dashed-wrapped\"><div class=\"sk-label-container\"><div class=\"sk-label sk-toggleable\"><input class=\"sk-toggleable__control sk-hidden--visually\" id=\"sk-estimator-id-2\" type=\"checkbox\" ><label for=\"sk-estimator-id-2\" class=\"sk-toggleable__label sk-toggleable__label-arrow\">preprocessor: ColumnTransformer</label><div class=\"sk-toggleable__content\"><pre>ColumnTransformer(transformers=[(&#x27;num&#x27;,\n",
       "                                 Pipeline(steps=[(&#x27;imputer&#x27;,\n",
       "                                                  SimpleImputer(strategy=&#x27;constant&#x27;)),\n",
       "                                                 (&#x27;scaler&#x27;, StandardScaler())]),\n",
       "                                 [&#x27;OverallQual&#x27;, &#x27;GrLivArea&#x27;, &#x27;GarageCars&#x27;,\n",
       "                                  &#x27;GarageArea&#x27;, &#x27;TotalBsmtSF&#x27;, &#x27;1stFlrSF&#x27;,\n",
       "                                  &#x27;FullBath&#x27;, &#x27;TotRmsAbvGrd&#x27;, &#x27;YearBuilt&#x27;,\n",
       "                                  &#x27;YearRemodAdd&#x27;, &#x27;GarageYrBlt&#x27;, &#x27;MasVnrArea&#x27;,\n",
       "                                  &#x27;Fireplaces&#x27;]),\n",
       "                                (&#x27;cat&#x27;,\n",
       "                                 Pipeline(steps=[(&#x27;imputer&#x27;,\n",
       "                                                  SimpleImput...\n",
       "                                  &#x27;HouseStyle&#x27;, &#x27;RoofMatl&#x27;, &#x27;Functional&#x27;,\n",
       "                                  &#x27;Foundation&#x27;, &#x27;GarageType&#x27;, &#x27;Heating&#x27;,\n",
       "                                  &#x27;BsmtFinType2&#x27;, &#x27;BsmtFinType1&#x27;,\n",
       "                                  &#x27;SaleCondition&#x27;, &#x27;RoofStyle&#x27;, &#x27;BldgType&#x27;,\n",
       "                                  &#x27;GarageCond&#x27;, &#x27;GarageQual&#x27;, &#x27;Electrical&#x27;,\n",
       "                                  &#x27;HeatingQC&#x27;, &#x27;LotConfig&#x27;, &#x27;MSZoning&#x27;,\n",
       "                                  &#x27;ExterCond&#x27;, &#x27;BsmtExposure&#x27;, &#x27;BsmtCond&#x27;,\n",
       "                                  &#x27;ExterQual&#x27;, &#x27;BsmtQual&#x27;, &#x27;KitchenQual&#x27;,\n",
       "                                  &#x27;LandContour&#x27;, &#x27;LotShape&#x27;, &#x27;LandSlope&#x27;,\n",
       "                                  &#x27;GarageFinish&#x27;, ...])])</pre></div></div></div><div class=\"sk-parallel\"><div class=\"sk-parallel-item\"><div class=\"sk-item\"><div class=\"sk-label-container\"><div class=\"sk-label sk-toggleable\"><input class=\"sk-toggleable__control sk-hidden--visually\" id=\"sk-estimator-id-3\" type=\"checkbox\" ><label for=\"sk-estimator-id-3\" class=\"sk-toggleable__label sk-toggleable__label-arrow\">num</label><div class=\"sk-toggleable__content\"><pre>[&#x27;OverallQual&#x27;, &#x27;GrLivArea&#x27;, &#x27;GarageCars&#x27;, &#x27;GarageArea&#x27;, &#x27;TotalBsmtSF&#x27;, &#x27;1stFlrSF&#x27;, &#x27;FullBath&#x27;, &#x27;TotRmsAbvGrd&#x27;, &#x27;YearBuilt&#x27;, &#x27;YearRemodAdd&#x27;, &#x27;GarageYrBlt&#x27;, &#x27;MasVnrArea&#x27;, &#x27;Fireplaces&#x27;]</pre></div></div></div><div class=\"sk-serial\"><div class=\"sk-item\"><div class=\"sk-serial\"><div class=\"sk-item\"><div class=\"sk-estimator sk-toggleable\"><input class=\"sk-toggleable__control sk-hidden--visually\" id=\"sk-estimator-id-4\" type=\"checkbox\" ><label for=\"sk-estimator-id-4\" class=\"sk-toggleable__label sk-toggleable__label-arrow\">SimpleImputer</label><div class=\"sk-toggleable__content\"><pre>SimpleImputer(strategy=&#x27;constant&#x27;)</pre></div></div></div><div class=\"sk-item\"><div class=\"sk-estimator sk-toggleable\"><input class=\"sk-toggleable__control sk-hidden--visually\" id=\"sk-estimator-id-5\" type=\"checkbox\" ><label for=\"sk-estimator-id-5\" class=\"sk-toggleable__label sk-toggleable__label-arrow\">StandardScaler</label><div class=\"sk-toggleable__content\"><pre>StandardScaler()</pre></div></div></div></div></div></div></div></div><div class=\"sk-parallel-item\"><div class=\"sk-item\"><div class=\"sk-label-container\"><div class=\"sk-label sk-toggleable\"><input class=\"sk-toggleable__control sk-hidden--visually\" id=\"sk-estimator-id-6\" type=\"checkbox\" ><label for=\"sk-estimator-id-6\" class=\"sk-toggleable__label sk-toggleable__label-arrow\">cat</label><div class=\"sk-toggleable__content\"><pre>[&#x27;SaleType&#x27;, &#x27;Condition1&#x27;, &#x27;Condition2&#x27;, &#x27;HouseStyle&#x27;, &#x27;RoofMatl&#x27;, &#x27;Functional&#x27;, &#x27;Foundation&#x27;, &#x27;GarageType&#x27;, &#x27;Heating&#x27;, &#x27;BsmtFinType2&#x27;, &#x27;BsmtFinType1&#x27;, &#x27;SaleCondition&#x27;, &#x27;RoofStyle&#x27;, &#x27;BldgType&#x27;, &#x27;GarageCond&#x27;, &#x27;GarageQual&#x27;, &#x27;Electrical&#x27;, &#x27;HeatingQC&#x27;, &#x27;LotConfig&#x27;, &#x27;MSZoning&#x27;, &#x27;ExterCond&#x27;, &#x27;BsmtExposure&#x27;, &#x27;BsmtCond&#x27;, &#x27;ExterQual&#x27;, &#x27;BsmtQual&#x27;, &#x27;KitchenQual&#x27;, &#x27;LandContour&#x27;, &#x27;LotShape&#x27;, &#x27;LandSlope&#x27;, &#x27;GarageFinish&#x27;, &#x27;PavedDrive&#x27;, &#x27;Utilities&#x27;, &#x27;Street&#x27;, &#x27;CentralAir&#x27;]</pre></div></div></div><div class=\"sk-serial\"><div class=\"sk-item\"><div class=\"sk-serial\"><div class=\"sk-item\"><div class=\"sk-estimator sk-toggleable\"><input class=\"sk-toggleable__control sk-hidden--visually\" id=\"sk-estimator-id-7\" type=\"checkbox\" ><label for=\"sk-estimator-id-7\" class=\"sk-toggleable__label sk-toggleable__label-arrow\">SimpleImputer</label><div class=\"sk-toggleable__content\"><pre>SimpleImputer(strategy=&#x27;most_frequent&#x27;)</pre></div></div></div><div class=\"sk-item\"><div class=\"sk-estimator sk-toggleable\"><input class=\"sk-toggleable__control sk-hidden--visually\" id=\"sk-estimator-id-8\" type=\"checkbox\" ><label for=\"sk-estimator-id-8\" class=\"sk-toggleable__label sk-toggleable__label-arrow\">OneHotEncoder</label><div class=\"sk-toggleable__content\"><pre>OneHotEncoder(handle_unknown=&#x27;ignore&#x27;)</pre></div></div></div></div></div></div></div></div></div></div><div class=\"sk-item\"><div class=\"sk-estimator sk-toggleable\"><input class=\"sk-toggleable__control sk-hidden--visually\" id=\"sk-estimator-id-9\" type=\"checkbox\" ><label for=\"sk-estimator-id-9\" class=\"sk-toggleable__label sk-toggleable__label-arrow\">RandomForestRegressor</label><div class=\"sk-toggleable__content\"><pre>RandomForestRegressor(random_state=1)</pre></div></div></div></div></div></div></div>"
      ],
      "text/plain": [
       "Pipeline(steps=[('preprocessor',\n",
       "                 ColumnTransformer(transformers=[('num',\n",
       "                                                  Pipeline(steps=[('imputer',\n",
       "                                                                   SimpleImputer(strategy='constant')),\n",
       "                                                                  ('scaler',\n",
       "                                                                   StandardScaler())]),\n",
       "                                                  ['OverallQual', 'GrLivArea',\n",
       "                                                   'GarageCars', 'GarageArea',\n",
       "                                                   'TotalBsmtSF', '1stFlrSF',\n",
       "                                                   'FullBath', 'TotRmsAbvGrd',\n",
       "                                                   'YearBuilt', 'YearRemodAdd',\n",
       "                                                   'GarageYrBlt', 'MasVnrArea',\n",
       "                                                   'Fireplaces']),\n",
       "                                                 ('cat',\n",
       "                                                  Pipeli...\n",
       "                                                   'Foundation', 'GarageType',\n",
       "                                                   'Heating', 'BsmtFinType2',\n",
       "                                                   'BsmtFinType1',\n",
       "                                                   'SaleCondition', 'RoofStyle',\n",
       "                                                   'BldgType', 'GarageCond',\n",
       "                                                   'GarageQual', 'Electrical',\n",
       "                                                   'HeatingQC', 'LotConfig',\n",
       "                                                   'MSZoning', 'ExterCond',\n",
       "                                                   'BsmtExposure', 'BsmtCond',\n",
       "                                                   'ExterQual', 'BsmtQual',\n",
       "                                                   'KitchenQual', 'LandContour',\n",
       "                                                   'LotShape', 'LandSlope',\n",
       "                                                   'GarageFinish', ...])])),\n",
       "                ('model', RandomForestRegressor(random_state=1))])"
      ]
     },
     "execution_count": 19,
     "metadata": {},
     "output_type": "execute_result"
    }
   ],
   "source": [
    "model = RandomForestRegressor(random_state=1)\n",
    "\n",
    "# Bundle preprocessing and modeling code in a pipeline\n",
    "clf = Pipeline(steps=[('preprocessor', preprocessor),\n",
    "                      ('model', model)\n",
    "                     ])\n",
    "\n",
    "clf.fit(train_X, train_y)"
   ]
  },
  {
   "cell_type": "markdown",
   "id": "2930d634",
   "metadata": {
    "papermill": {
     "duration": 0.00963,
     "end_time": "2025-02-12T09:38:31.301501",
     "exception": false,
     "start_time": "2025-02-12T09:38:31.291871",
     "status": "completed"
    },
    "tags": []
   },
   "source": [
    "# Model Validation"
   ]
  },
  {
   "cell_type": "code",
   "execution_count": 20,
   "id": "db40ff8b",
   "metadata": {
    "execution": {
     "iopub.execute_input": "2025-02-12T09:38:31.323844Z",
     "iopub.status.busy": "2025-02-12T09:38:31.323438Z",
     "iopub.status.idle": "2025-02-12T09:38:31.354996Z",
     "shell.execute_reply": "2025-02-12T09:38:31.353706Z"
    },
    "papermill": {
     "duration": 0.045443,
     "end_time": "2025-02-12T09:38:31.357240",
     "exception": false,
     "start_time": "2025-02-12T09:38:31.311797",
     "status": "completed"
    },
    "tags": []
   },
   "outputs": [
    {
     "name": "stdout",
     "output_type": "stream",
     "text": [
      "Mean Absolute Error of Random Forest = 16787.02348173516\n"
     ]
    }
   ],
   "source": [
    "preds = clf.predict(val_X)\n",
    "\n",
    "print(f\"Mean Absolute Error of Random Forest = {mean_absolute_error(val_y, preds)}\")"
   ]
  },
  {
   "cell_type": "markdown",
   "id": "1c965c20",
   "metadata": {
    "papermill": {
     "duration": 0.009575,
     "end_time": "2025-02-12T09:38:31.376855",
     "exception": false,
     "start_time": "2025-02-12T09:38:31.367280",
     "status": "completed"
    },
    "tags": []
   },
   "source": [
    "# Test Model with Test.csv"
   ]
  },
  {
   "cell_type": "code",
   "execution_count": 21,
   "id": "67e38ce7",
   "metadata": {
    "execution": {
     "iopub.execute_input": "2025-02-12T09:38:31.398273Z",
     "iopub.status.busy": "2025-02-12T09:38:31.397879Z",
     "iopub.status.idle": "2025-02-12T09:38:31.460129Z",
     "shell.execute_reply": "2025-02-12T09:38:31.458991Z"
    },
    "papermill": {
     "duration": 0.075466,
     "end_time": "2025-02-12T09:38:31.462295",
     "exception": false,
     "start_time": "2025-02-12T09:38:31.386829",
     "status": "completed"
    },
    "tags": []
   },
   "outputs": [
    {
     "data": {
      "text/plain": [
       "array([124394.66, 150822.  , 178369.8 , 189858.5 , 214264.36])"
      ]
     },
     "execution_count": 21,
     "metadata": {},
     "output_type": "execute_result"
    }
   ],
   "source": [
    "y_preds = clf.predict(X_test_full) \n",
    "y_preds[:5]"
   ]
  },
  {
   "cell_type": "code",
   "execution_count": 22,
   "id": "62cadc82",
   "metadata": {
    "execution": {
     "iopub.execute_input": "2025-02-12T09:38:31.484073Z",
     "iopub.status.busy": "2025-02-12T09:38:31.483671Z",
     "iopub.status.idle": "2025-02-12T09:38:31.495223Z",
     "shell.execute_reply": "2025-02-12T09:38:31.494009Z"
    },
    "papermill": {
     "duration": 0.025205,
     "end_time": "2025-02-12T09:38:31.497611",
     "exception": false,
     "start_time": "2025-02-12T09:38:31.472406",
     "status": "completed"
    },
    "tags": []
   },
   "outputs": [],
   "source": [
    "output = pd.DataFrame({'Id': X_test_full.index,\n",
    "                       'SalePrice': y_preds})\n",
    "\n",
    "output.to_csv('submission.csv', index=False)"
   ]
  }
 ],
 "metadata": {
  "kaggle": {
   "accelerator": "none",
   "dataSources": [
    {
     "databundleVersionId": 111096,
     "sourceId": 10211,
     "sourceType": "competition"
    }
   ],
   "dockerImageVersionId": 30804,
   "isGpuEnabled": false,
   "isInternetEnabled": false,
   "language": "python",
   "sourceType": "notebook"
  },
  "kernelspec": {
   "display_name": "Python 3",
   "language": "python",
   "name": "python3"
  },
  "language_info": {
   "codemirror_mode": {
    "name": "ipython",
    "version": 3
   },
   "file_extension": ".py",
   "mimetype": "text/x-python",
   "name": "python",
   "nbconvert_exporter": "python",
   "pygments_lexer": "ipython3",
   "version": "3.10.14"
  },
  "papermill": {
   "default_parameters": {},
   "duration": 16.407001,
   "end_time": "2025-02-12T09:38:32.229512",
   "environment_variables": {},
   "exception": null,
   "input_path": "__notebook__.ipynb",
   "output_path": "__notebook__.ipynb",
   "parameters": {},
   "start_time": "2025-02-12T09:38:15.822511",
   "version": "2.6.0"
  }
 },
 "nbformat": 4,
 "nbformat_minor": 5
}
